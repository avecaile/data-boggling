{
  "nbformat": 4,
  "nbformat_minor": 0,
  "metadata": {
    "colab": {
      "name": "Probabilistic Programming with TFP.ipynb",
      "provenance": [],
      "collapsed_sections": [],
      "authorship_tag": "ABX9TyPyyWeIgcr0BTp4cw+QdAUj",
      "include_colab_link": true
    },
    "kernelspec": {
      "name": "python3",
      "display_name": "Python 3"
    }
  },
  "cells": [
    {
      "cell_type": "markdown",
      "metadata": {
        "id": "view-in-github",
        "colab_type": "text"
      },
      "source": [
        "<a href=\"https://colab.research.google.com/github/avecaile/data-boggling/blob/master/Probabilistic_Programming_with_TFP.ipynb\" target=\"_parent\"><img src=\"https://colab.research.google.com/assets/colab-badge.svg\" alt=\"Open In Colab\"/></a>"
      ]
    },
    {
      "cell_type": "markdown",
      "metadata": {
        "id": "Rakm2NJt8Csg",
        "colab_type": "text"
      },
      "source": [
        "The code below was inspired by the  Colab from the first chapter of [Probabilistic Programming and Bayesian Methods for Hackers](https://colab.research.google.com/github/CamDavidsonPilon/Probabilistic-Programming-and-Bayesian-Methods-for-Hackers/blob/master/Chapter1_Introduction/Ch1_Introduction_TFP.ipynb#scrollTo=6Tmmlr92MZVj), so most of the credits go to Cam Davidson-Pilon and the people porting the code to [Tensorflow Probability](https://www.tensorflow.org/probability/).\n",
        "\n",
        "The full Github repository is available at [github/Probabilistic-Programming-and-Bayesian-Methods-for-Hackers](https://github.com/CamDavidsonPilon/Probabilistic-Programming-and-Bayesian-Methods-for-Hackers)\n"
      ]
    },
    {
      "cell_type": "code",
      "metadata": {
        "id": "wH_QxG044xVH",
        "colab_type": "code",
        "outputId": "4a25c3b1-0f17-4858-9442-6e3e97774ff5",
        "colab": {
          "base_uri": "https://localhost:8080/",
          "height": 55
        }
      },
      "source": [
        "#@title Imports and Global Variables (make sure to run this cell)  { display-mode: \"form\" }\n",
        "\n",
        "try:\n",
        "  # %tensorflow_version only exists in Colab.\n",
        "  %tensorflow_version 2.x\n",
        "except Exception:\n",
        "  pass\n",
        "\n",
        "\n",
        "from __future__ import absolute_import, division, print_function\n",
        "\n",
        "\n",
        "#@markdown This sets the warning status (default is `ignore`, since this notebook runs correctly)\n",
        "warning_status = \"ignore\" #@param [\"ignore\", \"always\", \"module\", \"once\", \"default\", \"error\"]\n",
        "import warnings\n",
        "warnings.filterwarnings(warning_status)\n",
        "with warnings.catch_warnings():\n",
        "    warnings.filterwarnings(warning_status, category=DeprecationWarning)\n",
        "    warnings.filterwarnings(warning_status, category=UserWarning)\n",
        "\n",
        "import numpy as np\n",
        "import os\n",
        "#@markdown This sets the styles of the plotting (default is styled like plots from [FiveThirtyeight.com](https://fivethirtyeight.com/)\n",
        "matplotlib_style = 'fivethirtyeight' #@param ['fivethirtyeight', 'bmh', 'ggplot', 'seaborn', 'default', 'Solarize_Light2', 'classic', 'dark_background', 'seaborn-colorblind', 'seaborn-notebook']\n",
        "import matplotlib.pyplot as plt; plt.style.use(matplotlib_style)\n",
        "import matplotlib.axes as axes;\n",
        "from matplotlib.patches import Ellipse\n",
        "#%matplotlib inline\n",
        "import seaborn as sns; sns.set_context('notebook')\n",
        "from IPython.core.pylabtools import figsize\n",
        "#@markdown This sets the resolution of the plot outputs (`retina` is the highest resolution)\n",
        "notebook_screen_res = 'retina' #@param ['retina', 'png', 'jpeg', 'svg', 'pdf']\n",
        "#%config InlineBackend.figure_format = notebook_screen_res\n",
        "\n",
        "import tensorflow as tf\n",
        "\n",
        "import tensorflow_probability as tfp\n",
        "tfd = tfp.distributions\n",
        "tfb = tfp.bijectors\n",
        "\n",
        "\n",
        "def session_options(enable_gpu_ram_resizing=True, enable_xla=False):\n",
        "    \"\"\"\n",
        "    Allowing the notebook to make use of GPUs if they're available.\n",
        "\n",
        "    XLA (Accelerated Linear Algebra) is a domain-specific compiler for linear\n",
        "    algebra that optimizes TensorFlow computations.\n",
        "    \"\"\"\n",
        "    config = tf.config\n",
        "    gpu_devices = config.experimental.list_physical_devices('GPU')\n",
        "    if enable_gpu_ram_resizing:\n",
        "        for device in gpu_devices:\n",
        "           tf.config.experimental.set_memory_growth(device, True)\n",
        "    if enable_xla:\n",
        "        config.optimizer.set_jit(True)\n",
        "    return config\n",
        "\n",
        "session_options(enable_gpu_ram_resizing=True, enable_xla=True)"
      ],
      "execution_count": 0,
      "outputs": [
        {
          "output_type": "execute_result",
          "data": {
            "text/plain": [
              "<module 'tensorflow._api.v2.config' from '/usr/local/lib/python3.6/dist-packages/tensorflow/_api/v2/config/__init__.py'>"
            ]
          },
          "metadata": {
            "tags": []
          },
          "execution_count": 1
        }
      ]
    },
    {
      "cell_type": "markdown",
      "metadata": {
        "id": "OkNdtaAEdS1y",
        "colab_type": "text"
      },
      "source": [
        "## Problem Statement\n",
        "\n",
        "Let's try to model a situation that concerns the rate at which a user sends and receives whatsapp messages:\n",
        "> You are given a series of daily WhatsApp-messages counts exchanged by 2 users from your system. The data, plotted over time, appears in the chart below. You are curious to know if the users' WhatsApp-chat habits have changed over time, either gradually or suddenly. How can you model this? (This is in fact the WhatsApp history data between me and my boyfriend.)\n",
        "\n",
        "Our goal is to determine whether there were changes in trends, sort of an anomaly detection."
      ]
    },
    {
      "cell_type": "markdown",
      "metadata": {
        "id": "eP0fGZOgO9Pv",
        "colab_type": "text"
      },
      "source": [
        ""
      ]
    },
    {
      "cell_type": "code",
      "metadata": {
        "id": "tHKBsJAlcggh",
        "colab_type": "code",
        "outputId": "813073d6-05e7-4647-e65f-3c10b37411a1",
        "colab": {
          "base_uri": "https://localhost:8080/",
          "height": 322
        }
      },
      "source": [
        "# Defining our data and assumptions\n",
        "count_data = tf.constant([\n",
        "    15, 38, 99, 41, 26, 18, 11, 343, 136, 18, 37, 93, 6, 11, 56, 26, 22, 24, 2, 13, 10, 40, 44, \n",
        "    3, 30, 7, 8, 6, 14, 23, 76, 67, 44, 39, 10, 80, 58, 77, 50, 8, 6, 17, 7, 14, 3, 3, 6, 13, 1, \n",
        "    5, 5, 5, 2, 10, 6, 4, 10, 4, 40, 29, 4, 2, 1, 1, 37, 110, 11, 10, 15, 19, 8, 11, 2, 6, 11, 81, \n",
        "    1, 2, 10, 27, 2\n",
        "], dtype=tf.float32)\n",
        "n_count_data = tf.shape(count_data)\n",
        "days = tf.range(n_count_data[0],dtype=tf.int32)\n",
        "\n",
        "# Visualizing the results\n",
        "plt.figure(figsize=(12.5, 4))\n",
        "plt.bar(days.numpy(), count_data, color=\"#5DA5DA\")\n",
        "plt.xlabel(\"Time (days)\")\n",
        "plt.ylabel(\"Count of WhatsApp-messages exchanged\")\n",
        "plt.title(\"Did the users' WhatsApp texting habits change over time?\")\n",
        "plt.xlim(0, n_count_data[0].numpy());"
      ],
      "execution_count": 0,
      "outputs": [
        {
          "output_type": "display_data",
          "data": {
            "image/png": "[encoded data removed]",
            "text/plain": [
              "<Figure size 900x288 with 1 Axes>"
            ]
          },
          "metadata": {
            "tags": [],
            "needs_background": "light"
          }
        }
      ]
    },
    {
      "cell_type": "markdown",
      "metadata": {
        "id": "HZMM64ofASRP",
        "colab_type": "text"
      },
      "source": [
        "How can we start to model this data? A Poisson distribution is generally good for modelling counts and lambda is going to be the mean of this distribution:\n",
        "\n",
        "$$ C_i \\sim \\text{Poisson}(\\lambda)  $$\n",
        "\n",
        "Looking at the count data, it appears that the number of WhatsApp message becomes lower for the later period. Therefore, we can consider lambda to be changing by the following logic.\n",
        " \n",
        "$$\\lambda = \n",
        "\\begin{cases} \\lambda_1  & \\text{if } t \\lt \\tau \\cr\n",
        "\\lambda_2 & \\text{if } t \\ge \\tau\n",
        "\\end{cases}\n",
        "$$\n",
        "\n",
        "If no sudden change occurred and indeed $\\lambda_1 = \\lambda_2$, then the $\\lambda$s posterior distributions should look about equal.\n",
        "\n",
        "\n",
        "We are going to infer what $\\lambda_1, \\lambda_2$, and $\\tau$ are. They are all probability distributions.\n",
        "\n",
        "Recall that  𝜆  can be any positive number. An exponential distribution provides a continuous density function, but it has its own hyperparameter called $\\alpha$.  \n",
        "\n",
        "$$\n",
        "\\begin{align}\n",
        "&\\lambda_i \\sim \\text{Exp}( \\alpha ) \\\\\n",
        "\\end{align}\n",
        "$$\n",
        "\n",
        "A good rule of thumb is to set the exponential parameter equal to the inverse of the average of the count data. \n",
        "\n",
        "\n",
        "\n",
        "What about 𝜏? We can say that 𝜏 ~ uniform(1,81) since we do not know when is the breakpoint. So we should be able to say that it can be every possible day.\n",
        "\n",
        "$$\n",
        "\\begin{align}\n",
        "& \\tau \\sim \\text{DiscreteUniform(1,81) }\\\\\n",
        "& \\Rightarrow P( \\tau = k ) = \\frac{1}{81}\n",
        "\\end{align}\n",
        "$$\n",
        "\n",
        "Basically, what we are modelling is the poisson function which will generate values based on lambda. Lambda is the average number of events per interval, and it is being estimated by another function called the exponential distribution. "
      ]
    },
    {
      "cell_type": "markdown",
      "metadata": {
        "id": "JhhMUMpvdl91",
        "colab_type": "text"
      },
      "source": [
        "## Define prior distributions\n",
        "\n",
        "So to put all of our distributions together, we have:\n",
        "\n",
        "$$\\begin{align*}\n",
        "\\lambda_{1}^{(0)} &\\sim \\text{Exponential}(\\text{rate}=\\alpha) \\\\\n",
        "\\lambda_{2}^{(0)} &\\sim \\text{Exponential}(\\text{rate}=\\alpha) \\\\\n",
        "\\tau &\\sim \\text{Uniform}[\\text{low}=0,\\text{high}=1) \\\\\n",
        "\\text{for }  i &= 1\\ldots N: \\\\\n",
        "\\lambda_i &= \\begin{cases} \\lambda_{1}^{(0)}, & \\tau > i/N \\\\ \\lambda_{2}^{(0)}, & \\text{otherwise}\\end{cases}\\\\\n",
        " X_i &\\sim \\text{Poisson}(\\text{rate}=\\lambda_i)\n",
        "\\end{align*}$$\n",
        "\n",
        "Let's implement this model using TF and TFP's distributions. Since TF Probability is built on the TensorFlow (TF) stack, it brings the runtime benefits of TF to Bayesian analysis. These include write-once run-many (ability to run your development model in production) and speedups via GPUs and TPUs."
      ]
    },
    {
      "cell_type": "markdown",
      "metadata": {
        "id": "Lm22r1g6SA2k",
        "colab_type": "text"
      },
      "source": [
        "##Build model"
      ]
    },
    {
      "cell_type": "code",
      "metadata": {
        "id": "9gEaOkK4dm2A",
        "colab_type": "code",
        "colab": {}
      },
      "source": [
        "def joint_log_prob(count_data, lambda_1, lambda_2, tau):\n",
        "    tfd = tfp.distributions\n",
        " \n",
        "    alpha = (1. / tf.reduce_mean(count_data))\n",
        "    rv_lambda_1 = tfd.Exponential(rate=alpha)\n",
        "    rv_lambda_2 = tfd.Exponential(rate=alpha)\n",
        " \n",
        "    rv_tau = tfd.Uniform()\n",
        " \n",
        "    # lambda_ is an array which gets gathered by the boolean of whether the day is smaller than the sample of tau.\n",
        "    lambda_ = tf.gather(\n",
        "         [lambda_1, lambda_2],\n",
        "         indices=tf.cast(tau * tf.cast(tf.size(count_data), dtype=tf.float32) <= tf.cast(tf.range(tf.size(count_data)), dtype=tf.float32), dtype=tf.int32))\n",
        "    rv_observation = tfd.Poisson(rate=lambda_)\n",
        "    # The output is the summation of all individual part log probability.\n",
        "    return (\n",
        "         rv_lambda_1.log_prob(lambda_1)\n",
        "         + rv_lambda_2.log_prob(lambda_2)\n",
        "         + rv_tau.log_prob(tau)\n",
        "         + tf.reduce_sum(rv_observation.log_prob(count_data))\n",
        "    )\n",
        "\n",
        "\n",
        "# Define a closure over our joint_log_prob.\n",
        "def unnormalized_log_posterior(lambda1, lambda2, tau):\n",
        "    return joint_log_prob(count_data, lambda1, lambda2, tau)"
      ],
      "execution_count": 0,
      "outputs": []
    },
    {
      "cell_type": "markdown",
      "metadata": {
        "id": "xerbDSa7d0SR",
        "colab_type": "text"
      },
      "source": [
        "This implementation is arguably very close to being a 1:1 mapping of the probabilistic model.\n",
        "\n",
        "We want to know the following distribution: $p(\\lambda_1, \\lambda_2, \\tau | X)$. And by Bayes rule gives us: $p(\\lambda_1, \\lambda_2, \\tau | X)$  $\\propto$ $p(X|\\lambda_1, \\lambda_2, \\tau)p(\\lambda_1)p(\\lambda_2)p(\\tau)$\n",
        "\n",
        "Doing inference using this model in TF Probability requires creating a joint log probability function which takes an input of samples and returns the log probability of the given sample in the model.\n"
      ]
    },
    {
      "cell_type": "markdown",
      "metadata": {
        "id": "PO8qCRwod3WA",
        "colab_type": "text"
      },
      "source": [
        "## Infer by sampling posterior\n",
        "\n",
        "\n"
      ]
    },
    {
      "cell_type": "code",
      "metadata": {
        "id": "TkLXN4OKd4Bq",
        "colab_type": "code",
        "colab": {}
      },
      "source": [
        "# wrap the mcmc sampling call in a @tf.function to speed it up\n",
        "@tf.function(autograph=False)\n",
        "def graph_sample_chain(*args, **kwargs):\n",
        "  return tfp.mcmc.sample_chain(*args, **kwargs)\n",
        "\n",
        "# First ~5-10% steps thrown away: “burn-in” process\n",
        "num_burnin_steps = 5000\n",
        "num_results = 20000\n",
        "\n",
        "\n",
        "# Set the chain's start state.\n",
        "initial_chain_state = [\n",
        "    tf.cast(tf.reduce_mean(count_data), tf.float32) * tf.ones([], dtype=tf.float32, name=\"init_lambda1\"),\n",
        "    tf.cast(tf.reduce_mean(count_data), tf.float32) * tf.ones([], dtype=tf.float32, name=\"init_lambda2\"),\n",
        "    0.5 * tf.ones([], dtype=tf.float32, name=\"init_tau\"),\n",
        "]\n",
        "\n",
        "\n",
        "# Since HMC operates over unconstrained space, we need to transform the\n",
        "# samples so they live in real-space.\n",
        "unconstraining_bijectors = [\n",
        "    tfp.bijectors.Exp(),       # Maps a positive real to R.\n",
        "    tfp.bijectors.Exp(),       # Maps a positive real to R.\n",
        "    tfp.bijectors.Sigmoid(),   # Maps [0,1] to R.  \n",
        "]\n",
        "\n",
        "step_size = 0.2\n",
        "\n",
        "# Putting together all our building blocks to run the MCMC algorithm. \n",
        "# The unnormalized_log_posterior function is the the joint_log_prob function with count_data closed out of the input.\n",
        "\n",
        "kernel=tfp.mcmc.TransformedTransitionKernel(\n",
        "        inner_kernel=tfp.mcmc.HamiltonianMonteCarlo(\n",
        "            target_log_prob_fn=unnormalized_log_posterior,\n",
        "            num_leapfrog_steps=2,\n",
        "            step_size=step_size,\n",
        "            state_gradients_are_stopped=True),\n",
        "        bijector=unconstraining_bijectors)\n",
        "\n",
        "kernel = tfp.mcmc.SimpleStepSizeAdaptation(\n",
        "    inner_kernel=kernel, num_adaptation_steps=int(num_burnin_steps * 0.8))\n",
        "\n",
        "\n",
        "# Sample from the chain.\n",
        "[\n",
        "    lambda_1_samples,\n",
        "    lambda_2_samples,\n",
        "    posterior_tau,\n",
        "], kernel_results = graph_sample_chain(\n",
        "    num_results=num_results,\n",
        "    num_burnin_steps=num_burnin_steps,\n",
        "    current_state=initial_chain_state,\n",
        "    kernel = kernel)\n",
        "    \n",
        "tau_samples = tf.floor(posterior_tau * tf.cast(tf.size(count_data),dtype=tf.float32))"
      ],
      "execution_count": 0,
      "outputs": []
    },
    {
      "cell_type": "markdown",
      "metadata": {
        "id": "Rie7dL7bMyNw",
        "colab_type": "text"
      },
      "source": [
        "We are using Markov Chain Monte Carlo (MCMC), specifically the Hamiltonian Monte Carlo (HMC) kernel, to generate posterior samples using the model defined above. We are using the property of TF, called automatic differentiation, which automatically computes the gradient for us, which is then used by HMC.\n",
        "\n",
        "Then we are going to compute the joint probabilities in a fast manner by calling the defined closure.\n",
        "\n",
        "HMC samples live in Real number space. But our exponential distribution samples and uniform distribution samples live in R+ and (0,1). So we add these 3 independent bijectors to constraint the space we are sampling in (basically make sure that the HMC samples have > 0 probability and  chain doesn't get stuck).\n"
      ]
    },
    {
      "cell_type": "code",
      "metadata": {
        "id": "It6YZFGreClb",
        "colab_type": "code",
        "outputId": "f74afea5-4b23-44d9-9ccb-b02a46c335c4",
        "colab": {
          "base_uri": "https://localhost:8080/",
          "height": 72
        }
      },
      "source": [
        "print(\"acceptance rate: {}\".format(\n",
        "    tf.reduce_mean(tf.cast(kernel_results.inner_results.inner_results.is_accepted,dtype=tf.float32))))\n",
        "print(\"final step size: {}\".format(\n",
        "    tf.reduce_mean(kernel_results.inner_results.inner_results.accepted_results.step_size[-100:])))"
      ],
      "execution_count": 0,
      "outputs": [
        {
          "output_type": "stream",
          "text": [
            "acceptance rate: 0.476500004529953\n",
            "final step size: 0.016956288367509842\n"
          ],
          "name": "stdout"
        }
      ]
    },
    {
      "cell_type": "markdown",
      "metadata": {
        "id": "pQzzuFkP6lBI",
        "colab_type": "text"
      },
      "source": [
        "When the step size is too small, the system is too conservative, and doesn’t explore parameter space rapidly. On the other hand, when step size is too large, the trajectory is unstable and all of the steps basically get rejected during the Metropolis step.\n",
        "[Theoretical analysis](https://arxiv.org/abs/1001.4460) indicates that the optimal balance of these two factors comes when the acceptance probability is ∼0.651. This isn’t a strict number that you have to nail, but getting the acceptance probability within the 0.4−0.9\n",
        " is a good target.\n",
        "\n"
      ]
    },
    {
      "cell_type": "markdown",
      "metadata": {
        "id": "hoKFtFO0VK5E",
        "colab_type": "text"
      },
      "source": [
        "## Plot posterior distributions"
      ]
    },
    {
      "cell_type": "code",
      "metadata": {
        "id": "YTmml2pYeDQf",
        "colab_type": "code",
        "outputId": "bae20e33-509e-4523-9f94-b0cbb7c9bb0c",
        "colab": {
          "base_uri": "https://localhost:8080/",
          "height": 925
        }
      },
      "source": [
        "plt.figure(figsize=(12.5, 15))\n",
        "#histogram of the samples:\n",
        "\n",
        "ax = plt.subplot(311)\n",
        "ax.set_autoscaley_on(False)\n",
        "\n",
        "plt.hist(lambda_1_samples, histtype='stepfilled', bins=30, alpha=0.85,\n",
        "         label=r\"posterior of $\\lambda_1$\", color='#F15854', density=True)\n",
        "plt.legend(loc=\"upper left\")\n",
        "plt.title(r\"\"\"Posterior distributions of the variables $\\lambda_1,\\;\\lambda_2,\\;\\tau$\"\"\")\n",
        "plt.xlim([10, 50])\n",
        "plt.xlabel(r\"$\\lambda_1$ value\")\n",
        "\n",
        "ax = plt.subplot(312)\n",
        "ax.set_autoscaley_on(False)\n",
        "plt.hist(lambda_2_samples, histtype='stepfilled', bins=30, alpha=0.85,\n",
        "         label=r\"posterior of $\\lambda_2$\", color='#B276B2', density=True)\n",
        "plt.legend(loc=\"upper left\")\n",
        "plt.xlim([10, 50])\n",
        "plt.xlabel(r\"$\\lambda_2$ value\")\n",
        "\n",
        "plt.subplot(313)\n",
        "w = 1.0 / tau_samples.shape[0] * np.ones_like(tau_samples)\n",
        "plt.hist(tau_samples, bins=n_count_data[0], alpha=1,\n",
        "         label=r\"posterior of $\\tau$\",\n",
        "         color='#60BD68', weights=w, rwidth=2.)\n",
        "plt.xticks(np.arange(n_count_data[0]))\n",
        "plt.xlim([30, len(count_data)-36])\n",
        "plt.legend(loc=\"upper left\")\n",
        "plt.xlabel(r\"$\\tau$ (in days)\")\n",
        "plt.ylabel(r\"probability\");"
      ],
      "execution_count": 0,
      "outputs": [
        {
          "output_type": "display_data",
          "data": {
            "image/png": "[encoded data removed]",
            "text/plain": [
              "<Figure size 900x1080 with 3 Axes>"
            ]
          },
          "metadata": {
            "tags": [],
            "needs_background": "light"
          }
        }
      ]
    },
    {
      "cell_type": "markdown",
      "metadata": {
        "id": "KBLFezPcViZi",
        "colab_type": "text"
      },
      "source": [
        "You can see that the plotted samples for lambda1 and lambda2 and part from each other, they do not overlap at all, meaning that were was an actual change happening in the messaging pattern - quite an anomaly!\n",
        "\n",
        "The posterior distribution of tau suggests with very high probobability that the switch-over happend at around day 38 - not so easy to eyeball this one!"
      ]
    },
    {
      "cell_type": "code",
      "metadata": {
        "id": "olSgwVHpcES1",
        "colab_type": "code",
        "colab": {}
      },
      "source": [
        "# labels for the days\n",
        "day_labels = ['2020-02-03', '2020-02-04', '2020-02-05', '2020-02-06', '2020-02-07', \n",
        "              '2020-02-08', '2020-02-09', '2020-02-10', '2020-02-11', '2020-02-12', \n",
        "              '2020-02-13', '2020-02-14', '2020-02-15', '2020-02-16', '2020-02-17', \n",
        "              '2020-02-18', '2020-02-19', '2020-02-20', '2020-02-21', '2020-02-22', \n",
        "              '2020-02-23', '2020-02-24', '2020-02-25', '2020-02-26', '2020-02-27', \n",
        "              '2020-02-28', '2020-02-29', '2020-03-01', '2020-03-02', '2020-03-03', \n",
        "              '2020-03-04', '2020-03-05', '2020-03-06', '2020-03-07', '2020-03-08', \n",
        "              '2020-03-09', '2020-03-10', '2020-03-11', '2020-03-12', '2020-03-13', \n",
        "              '2020-03-14', '2020-03-16', '2020-03-17', '2020-03-18', '2020-03-19', \n",
        "              '2020-03-20', '2020-03-21', '2020-03-22', '2020-03-23', '2020-03-24', \n",
        "              '2020-03-26', '2020-03-27', '2020-03-28', '2020-03-29', '2020-03-30', \n",
        "              '2020-03-31', '2020-04-01', '2020-04-02', '2020-04-03', '2020-04-04', \n",
        "              '2020-04-05', '2020-04-07', '2020-04-08', '2020-04-09', '2020-04-10', \n",
        "              '2020-04-11', '2020-04-12', '2020-04-13', '2020-04-14', '2020-04-15', \n",
        "              '2020-04-17', '2020-04-19', '2020-04-20', '2020-04-21', '2020-04-22', \n",
        "              '2020-04-23', '2020-04-24', '2020-04-25', '2020-04-26', '2020-04-27', \n",
        "              '2020-04-28', '2020-04-30']"
      ],
      "execution_count": 0,
      "outputs": []
    },
    {
      "cell_type": "markdown",
      "metadata": {
        "id": "Hi6APvJ6xFt7",
        "colab_type": "text"
      },
      "source": [
        "Below we plot the expected number of the WhatsApp message exchanged."
      ]
    },
    {
      "cell_type": "code",
      "metadata": {
        "id": "r9vkoZexZsB-",
        "colab_type": "code",
        "outputId": "146d3c8b-6d8a-4429-d611-65666a550cf8",
        "colab": {
          "base_uri": "https://localhost:8080/",
          "height": 646
        }
      },
      "source": [
        "# tau_samples, lambda_1_samples, lambda_2_samples contain\n",
        "# N samples from the corresponding posterior distribution\n",
        "\n",
        "N_ = tau_samples.shape[0]\n",
        "expected_texts_per_day = tf.zeros(N_,n_count_data.shape[0]) #(10000,81)\n",
        "\n",
        "plt.figure(figsize=(12.5, 9))\n",
        "\n",
        "day_range = tf.range(0,n_count_data[0],delta=1,dtype = tf.int32)\n",
        "\n",
        "# expand from shape of 81 to (10000,81)\n",
        "day_range = tf.expand_dims(day_range,0)\n",
        "day_range = tf.tile(day_range,tf.constant([N_,1]))\n",
        "\n",
        "# expand from shape of 10000 to 10000,81\n",
        "tau_samples_per_day = tf.expand_dims(tau_samples,0)\n",
        "tau_samples_per_day = tf.transpose(tf.tile(tau_samples_per_day,tf.constant([day_range.shape[1],1])))\n",
        "\n",
        "tau_samples_per_day = tf.cast(tau_samples_per_day,dtype=tf.int32)\n",
        "#ix_day is (10000,81) tensor where axis=0 is number of samples, axis=1 is day. each value is true if sampleXday value is < tau_sample value\n",
        "ix_day = day_range < tau_samples_per_day\n",
        "\n",
        "lambda_1_samples_per_day = tf.expand_dims(lambda_1_samples,0)\n",
        "lambda_1_samples_per_day = tf.transpose(tf.tile(lambda_1_samples_per_day,tf.constant([day_range.shape[1],1])))\n",
        "lambda_2_samples_per_day = tf.expand_dims(lambda_2_samples,0)\n",
        "lambda_2_samples_per_day = tf.transpose(tf.tile(lambda_2_samples_per_day,tf.constant([day_range.shape[1],1])))\n",
        "\n",
        "expected_texts_per_day = ((tf.reduce_sum(lambda_1_samples_per_day*tf.cast(ix_day,dtype=tf.float32),axis=0) + tf.reduce_sum(lambda_2_samples_per_day*tf.cast(~ix_day,dtype=tf.float32),axis=0))/N_)\n",
        "\n",
        "plt.plot(range(n_count_data[0]), expected_texts_per_day, lw=4, color=\"#E24A33\",\n",
        "         label=\"expected number of WhatsApp-messages exchanged\")\n",
        "plt.xlim(0, n_count_data.numpy()[0])\n",
        "plt.xlabel(\"Day\")\n",
        "plt.ylabel(\"Expected # WhatsApp-messages\")\n",
        "plt.title(\"Expected number of WhatsApp-messages exchanged\")\n",
        "plt.ylim(0, 350)\n",
        "plt.bar(np.arange(len(count_data)), count_data, color=\"#5DA5DA\", alpha=0.65,\n",
        "        label=\"observed WhatsApp-messages exchanged per day\")\n",
        "plt.xticks(np.arange(len(count_data)), day_labels, rotation=90)\n",
        "\n",
        "plt.legend(loc=\"upper left\");"
      ],
      "execution_count": 0,
      "outputs": [
        {
          "output_type": "display_data",
          "data": {
            "image/png": "[encoded data removed]",
            "text/plain": [
              "<Figure size 900x648 with 1 Axes>"
            ]
          },
          "metadata": {
            "tags": [],
            "needs_background": "light"
          }
        }
      ]
    },
    {
      "cell_type": "markdown",
      "metadata": {
        "id": "en9DoSvQxqsQ",
        "colab_type": "text"
      },
      "source": [
        "## Conclusion\n",
        "This analysis shows:\n",
        "\n",
        "\n",
        "*   there was a behavioural change (lambda 1 is different from lambda2)\n",
        "*   the change was sudden rather than gradual (as demonstrated by tau’s peaked posterior distribution)\n",
        "*   tau = day 38, which corresponds to March 12th 2020, the day I started working from home due to Coronavirus lockdown.\n",
        "*   a fun fact: an outlier in the communication pattern on February 10th. I initially thought we were making plans for Valentines day, but looking at the logs I realized we had a fight. Communication is important! : )\n",
        "\n",
        "\n",
        "###Key take-away\n",
        "\n",
        "When the data of interest is not big enough to be trained on a neural network, we can use a probabilistic model to get meaningful insights.\n",
        "\n",
        "\n",
        "\n",
        "\n"
      ]
    }
  ]
}